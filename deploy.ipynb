{
 "cells": [
  {
   "cell_type": "markdown",
   "id": "9623df24",
   "metadata": {},
   "source": [
    "# Dataset Augmentation in Papyrology with Generative Models: A Study of Synthetic Ancient Greek Character Images\n",
    "## IJCAI-2022 Supplement\n",
    "### Model Deployment Demonstration Notebook"
   ]
  },
  {
   "cell_type": "markdown",
   "id": "bbe79a1f",
   "metadata": {},
   "source": [
    "### To run this demonstration, choose from the options below by uncommenting your choice, then run the cell. Further information can be found in readme.txt. The deploy functions in the next cell must be imported to run the predictions."
   ]
  },
  {
   "cell_type": "markdown",
   "id": "fe3058e2",
   "metadata": {},
   "source": [
    "## Import deploy functions"
   ]
  },
  {
   "cell_type": "code",
   "execution_count": null,
   "id": "5308799d",
   "metadata": {},
   "outputs": [],
   "source": [
    "from deploy import *"
   ]
  },
  {
   "cell_type": "markdown",
   "id": "e774191e",
   "metadata": {},
   "source": [
    "## Run predictions for each model with images from the AL_ALL Dataset"
   ]
  },
  {
   "cell_type": "code",
   "execution_count": null,
   "id": "47a07fff",
   "metadata": {},
   "outputs": [],
   "source": [
    "deploy(\"resnet\", \"synth\", \"real/\") # Resnet trained with AL_SYNTH, inferencing images in the directory of images from AL_PUB\n",
    "#deploy(\"resnet\", \"all\", \"real/\") # Resnet trained with AL_ALL, inferencing images in the directory of images from AL_PUB\n",
    "#deploy(\"cnn\", \"synth\", \"real/\") # CNN trained with AL_SYNTH, inferencing images in the directory of images from AL_PUB\n",
    "#deploy(\"cnn\", \"all\", \"real/\") # CNN trained with AL_ALL, inferencing images in the directory of images from AL_PUB"
   ]
  },
  {
   "cell_type": "markdown",
   "id": "6e087cb6",
   "metadata": {},
   "source": [
    "## Run predictions for each model with images from the AL_SYNTH Dataset"
   ]
  },
  {
   "cell_type": "code",
   "execution_count": null,
   "id": "74ba56c3",
   "metadata": {},
   "outputs": [],
   "source": [
    "#deploy(\"resnet\", \"synth\", \"synthetic/\") # Resnet trained with AL_SYNTH, inferencing images in the directory of sythetic images\n",
    "#deploy(\"resnet\", \"all\", \"synthetic/\") # Resnet trained with AL_ALL, inferencing images in the directory of sythetic images\n",
    "#deploy(\"cnn\", \"synth\", \"synthetic/\") # CNN trained with AL_SYNTH, inferencing images in the directory of sythetic images\n",
    "deploy(\"cnn\", \"all\", \"synthetic/\") # CNN trained with AL_ALL, inferencing images in the directory of sythetic images"
   ]
  }
 ],
 "metadata": {
  "kernelspec": {
   "display_name": "Python 3",
   "language": "python",
   "name": "python3"
  },
  "language_info": {
   "codemirror_mode": {
    "name": "ipython",
    "version": 3
   },
   "file_extension": ".py",
   "mimetype": "text/x-python",
   "name": "python",
   "nbconvert_exporter": "python",
   "pygments_lexer": "ipython3",
   "version": "3.8.8"
  }
 },
 "nbformat": 4,
 "nbformat_minor": 5
}
